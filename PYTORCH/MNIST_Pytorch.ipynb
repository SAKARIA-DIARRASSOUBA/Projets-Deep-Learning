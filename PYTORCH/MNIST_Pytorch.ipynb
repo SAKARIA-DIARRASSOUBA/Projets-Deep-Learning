{
 "cells": [
  {
   "cell_type": "markdown",
   "metadata": {},
   "source": [
    "# Classification des chiffres manuscrits MNIST"
   ]
  },
  {
   "cell_type": "code",
   "execution_count": 1,
   "metadata": {},
   "outputs": [
    {
     "data": {
      "text/plain": [
       "'cpu'"
      ]
     },
     "execution_count": 1,
     "metadata": {},
     "output_type": "execute_result"
    }
   ],
   "source": [
    "import torch\n",
    "import torchvision\n",
    "import numpy as np\n",
    "import matplotlib.pyplot as plt\n",
    "import torch.nn as nn\n",
    "import torch.optim as optim\n",
    "import torch.nn.functional as F\n",
    "from torchvision import datasets, transforms\n",
    "#from torchvision.datasets import MNIST\n",
    "from torchvision.transforms import ToTensor\n",
    "from torchvision.utils import make_grid\n",
    "from torch.utils.data.dataloader import DataLoader\n",
    "from torch.utils.data import random_split\n",
    "%matplotlib inline\n",
    "import os\n",
    "import time\n",
    "# moves your model to train on your gpu if available else it uses your cpu\n",
    "device = (\"cuda\" if torch.cuda.is_available() else \"cpu\")\n",
    "device"
   ]
  },
  {
   "cell_type": "markdown",
   "metadata": {},
   "source": [
    "## Charger des données MNIST à partir de Torchvision\n",
    "Torchvision permet de charger les données du MNIST de manière pratique. Nous utiliserons un batch_size de 64 pour la formation et de 64 pour les tests sur cette base de données. Les valeurs 0,1307 et 0,3081 utilisées pour la transformation Normalize() ci-dessous sont la moyenne globale et l'écart-type de la base de données MNIST. **transforme.ToTensor()** convertit l'ensemble du tableau en tenseur de torche et le divise par 255.  Les valeurs sont donc comprises entre 0,0 et 1,0."
   ]
  },
  {
   "cell_type": "code",
   "execution_count": 2,
   "metadata": {},
   "outputs": [],
   "source": [
    "# On defini la transformation qui normalise les données\n",
    "transform = transforms.Compose([ transforms.ToTensor(),\n",
    "                                transforms.Normalize((0.1307,),(0.3081,))\n",
    "                               ])"
   ]
  },
  {
   "cell_type": "code",
   "execution_count": 3,
   "metadata": {},
   "outputs": [],
   "source": [
    "# On télécharge et charge les données \n",
    "train_set = datasets.MNIST('DATA_MNIST/', download=True, train=True, transform=transform)\n",
    "trainLoader = torch.utils.data.DataLoader(train_set, batch_size=64, shuffle=True)\n",
    "\n",
    "test_set = datasets.MNIST('DATA_MNIST/', download=True, train=False, transform=transform)\n",
    "testLoader = torch.utils.data.DataLoader(test_set, batch_size=64, shuffle=True)"
   ]
  },
  {
   "cell_type": "markdown",
   "metadata": {},
   "source": [
    "Dans PyTorch, **DataLoader** contient quelques options interessantes autres que dataset et batch size. par exemple l'utilisation de $num workers >1$ pour utiliser les sous processus pour charger les données de manière asynchrone ou utiliser la RAM (via **pin_memory**) pour accelérer les transfert de RAM vers le GPU"
   ]
  },
  {
   "cell_type": "code",
   "execution_count": 4,
   "metadata": {},
   "outputs": [
    {
     "data": {
      "text/plain": [
       "(10000, 60000)"
      ]
     },
     "execution_count": 4,
     "metadata": {},
     "output_type": "execute_result"
    }
   ],
   "source": [
    "len(test_set),len(train_set)\n"
   ]
  },
  {
   "cell_type": "markdown",
   "metadata": {},
   "source": [
    "## Preproccessing des données\n",
    "Transformons notre objet trainloader en un itérateur avec iter afin que nous puissions accéder à nos images et à nos étiquettes à partir de ce générateur. Nous pouvons voir la forme comme $64\\times 1\\times 28\\times 28$. cela signifi que:\n",
    "\n",
    "- 64: Represents 64 images\n",
    "- 1 : un cannal donc la couleur ==>> Grayscale(grise)\n",
    "- $28$ par 28 pixel: la forme des images\n"
   ]
  },
  {
   "cell_type": "code",
   "execution_count": 5,
   "metadata": {},
   "outputs": [
    {
     "name": "stdout",
     "output_type": "stream",
     "text": [
      "le type de données:  <class 'torch.Tensor'>\n",
      "la tailles des images : torch.Size([64, 1, 28, 28])\n",
      "la taille des labels : torch.Size([64])\n"
     ]
    }
   ],
   "source": [
    "examples = enumerate(trainLoader)\n",
    "batch_idx, (images, labels) = next(examples)\n",
    "print(\"le type de données: \",type(images)) # Checking the datatype \n",
    "print(\"la tailles des images :\", images.shape) # the size of the image\n",
    "print(\"la taille des labels :\", labels.shape) # the size of the labels"
   ]
  },
  {
   "cell_type": "code",
   "execution_count": 6,
   "metadata": {},
   "outputs": [
    {
     "data": {
      "image/png": "[encoded data removed]",
      "text/plain": [
       "<Figure size 432x288 with 6 Axes>"
      ]
     },
     "execution_count": 6,
     "metadata": {},
     "output_type": "execute_result"
    },
    {
     "data": {
      "image/png": "[encoded data removed]",
      "text/plain": [
       "<Figure size 432x288 with 6 Axes>"
      ]
     },
     "metadata": {},
     "output_type": "display_data"
    }
   ],
   "source": [
    "\n",
    "fig = plt.figure()\n",
    "for i in range(6):\n",
    "    plt.subplot(2,3,i+1)\n",
    "    plt.tight_layout()\n",
    "    plt.imshow(images[i][0], cmap='gray')\n",
    "    plt.title(\"label: {}\".format(labels[i]))\n",
    "    plt.xticks([])\n",
    "    plt.yticks([])\n",
    "fig"
   ]
  },
  {
   "cell_type": "markdown",
   "metadata": {},
   "source": [
    "## construction du réseau\n",
    " \n",
    "\n",
    "Nous allons constuire notre réseau en utilisant la méthode **nn.module** dans la classe des objets orientées. Ce réseau sera composé de 2 couches de convolutions 2D suivies de des couches FC. Comme fonctions d'activations on utilisera la ReLU et comme moyen de regularisation  on utilisera le Dropout\n",
    "\n",
    "La fonction **Forward()** définie la façon dont on calcule la sortie en utilisant les couches, elle permet de propager les calculs vers l'avant dans le résau"
   ]
  },
  {
   "cell_type": "code",
   "execution_count": 7,
   "metadata": {},
   "outputs": [],
   "source": [
    "class Net(nn.Module):\n",
    "    def __init__(self):\n",
    "        super(Net, self).__init__()\n",
    "        # Instancier(créer) les 2 couches de convolution\n",
    "        # On peut calculer la taille de sortie de chaque de convolution comme:\n",
    "        # outpout = [(in_channel + 2*padding - kernel_size) / stride] + 1\n",
    "        self.conv1 = nn.Conv2d(in_channels=1, out_channels=12, kernel_size=3, padding=1)\n",
    "        self.conv2 = nn.Conv2d(in_channels=12, out_channels=24, kernel_size=3, padding=1)\n",
    "        \n",
    "        # Instancier la ReLU non lineaire\n",
    "        self.relu = nn.ReLU(inplace=True)\n",
    "        # après la première couche de convolution la sortie est\n",
    "        # [(28 + 2*1 - 3)/1] + 1 = 28. car image.shape=(N,1,28,28)\n",
    "        \n",
    "        # Instancier une couche de max pooling \n",
    "        self.pool = nn.MaxPool2d(kernel_size=2, stride=2)\n",
    "        # Lorqu'on applique le premier max pooling avec kernel=2, on a divisé par 2 \n",
    "        # donc on obtient 28 / 2 = 14\n",
    "        # l'application du second max pooling donnne 14/2=7\n",
    "        \n",
    "        # Instancier les couches de fully connected \n",
    "        self.fc1 = nn.Linear(24 * 7*7, 64)\n",
    "        self.fc2 = nn.Linear(64, 10)\n",
    "        \n",
    "    def forward(self, x):\n",
    "        # Appliquer la conv suivie de la  relu, puis la ligne suivante prendre la pool de tout\n",
    "        x = self.relu(self.conv1(x))\n",
    "        x = self.pool(x)\n",
    "        \n",
    "        # Appliquer la conv suivie de la  relu, puis la ligne suivante prendre la pool de tout\n",
    "        x = self.relu(self.conv2(x))\n",
    "        x = self.pool(x)\n",
    "        \n",
    "        # aplatit la sortie de la couche de convolution en un vecteur\n",
    "        x = x.view(x.size(0),-1)\n",
    "        #print(\"+++\",x.size(0))\n",
    "        \n",
    "        # Appliquer la première couche de Fully connected\n",
    "        x = self.relu(self.fc1(x))\n",
    "        \n",
    "        # Appliquer la deuxième couche de Fully connected et retourner le resultat\n",
    "        return self.fc2(x)"
   ]
  },
  {
   "cell_type": "markdown",
   "metadata": {},
   "source": [
    "Définissons les optimiseurs que nous utiliserons.\n",
    "Ensuite, nous utiliserons l'optimiseur Stochastic Gradient Descent pour la mise à jour des hyperparamètres. model.parameters() fournira les paramètres pouvant être appris à l'optimiseur et lr=0.01 définit les pas d'apprentissage pour les mises à jour des paramètres.\n"
   ]
  },
  {
   "cell_type": "code",
   "execution_count": 8,
   "metadata": {},
   "outputs": [
    {
     "data": {
      "text/plain": [
       "Net(\n",
       "  (conv1): Conv2d(1, 12, kernel_size=(3, 3), stride=(1, 1), padding=(1, 1))\n",
       "  (conv2): Conv2d(12, 24, kernel_size=(3, 3), stride=(1, 1), padding=(1, 1))\n",
       "  (relu): ReLU(inplace=True)\n",
       "  (pool): MaxPool2d(kernel_size=2, stride=2, padding=0, dilation=1, ceil_mode=False)\n",
       "  (fc1): Linear(in_features=1176, out_features=64, bias=True)\n",
       "  (fc2): Linear(in_features=64, out_features=10, bias=True)\n",
       ")"
      ]
     },
     "execution_count": 8,
     "metadata": {},
     "output_type": "execute_result"
    }
   ],
   "source": [
    "model = Net()\n",
    "optimizer = optim.Adam(model.parameters(), lr=0.01)\n",
    "criterion = nn.CrossEntropyLoss()\n",
    "model.to(device)\n"
   ]
  },
  {
   "cell_type": "markdown",
   "metadata": {},
   "source": [
    "Après la passe en avant, la loss function est calculée à partir des **etiquettes** et **les prédictions**  afin de mettre à jour les poids. La mise en place de la fonction de perte est une étape assez simple. On utilise ici la perte d'entropie croisée, qui mesure la performance d'un modèle de classification dont la sortie est une probabilité comprise entre 0 et 1. Il convient de noter que la perte d'entropie croisée augmente lorsque la probabilité prévue diverge de l'étiquette réelle.\n",
    "\n"
   ]
  },
  {
   "cell_type": "markdown",
   "metadata": {},
   "source": [
    "## Apprentissage et test du modèle\n",
    "Le chargement des données est géré par Dataloader, ensuite on commence à mettre à zero le gradient en utilisant **optimizer.zero_grad()** puisque Pytorch par defaut cummule le gradient\n",
    "le **backward()** permet de collecter le nouveau  gradient qu'on propagera dans les paramètres du réseau via à **optimizer.step()**\n",
    "\n",
    "Notre modèle est maintenant prêt à être entrainé. On commençe par établir une taille d'époque. Une époque c'est, lorsqu'on traverse toute la base de données une seule fois pendant l'apprentissage. "
   ]
  },
  {
   "cell_type": "code",
   "execution_count": 9,
   "metadata": {},
   "outputs": [],
   "source": [
    "train_loss, val_loss = [], []\n",
    "accuracy_total_train, accuracy_total_val = [], []\n",
    "def Training(epochs):\n",
    "    for epoch in range(epochs):\n",
    "        # initialisation\n",
    "        total_train_loss = 0\n",
    "        total_val_loss = 0\n",
    "        model.train()\n",
    "        total = 0\n",
    "        taille=0\n",
    "        \n",
    "        # entrainement du model\n",
    "        for idx, (image, label) in enumerate(trainLoader):\n",
    "            taille+=image.shape[0]\n",
    "            # mettre à zero le gradient\n",
    "            optimizer.zero_grad()\n",
    "            # le calcul de forward\n",
    "            pred = model(image)\n",
    "            # calcul de la loss function\n",
    "            loss = criterion(pred, label)\n",
    "            total_train_loss += loss.item()\n",
    "            # calcul du gradient\n",
    "            loss.backward()\n",
    "            # mise à jour des poids\n",
    "            optimizer.step()\n",
    "            # prédiction \n",
    "            pred = F.softmax(pred, dim=1)\n",
    "            for i, p in enumerate(pred):\n",
    "                if label[i] == torch.max(p.data, 0)[1]: # verifier si label==prediction\n",
    "                    total = total + 1 \n",
    "        # calcul de l'accuracy du batch\n",
    "        accuracy_train = total / len(train_set)\n",
    "        accuracy_total_train.append(accuracy_train)\n",
    "        # calcul de l'accuracy du batch\n",
    "        total_train_loss = total_train_loss / (idx + 1)\n",
    "        train_loss.append(total_train_loss)\n",
    "\n",
    "        # validation du model\n",
    "        model.eval()\n",
    "        total = 0\n",
    "        for idx, (image, label) in enumerate(testLoader):\n",
    "            pred = model(image)\n",
    "            loss = criterion(pred, label)\n",
    "            total_val_loss += loss.item()\n",
    "\n",
    "            pred = F.softmax(pred, dim=1)\n",
    "            for i, p in enumerate(pred):\n",
    "                if label[i] == torch.max(p.data, 0)[1]:\n",
    "                    total = total + 1\n",
    "\n",
    "        accuracy_val = total / len(test_set)\n",
    "        accuracy_total_val.append(accuracy_val)\n",
    "\n",
    "        total_val_loss = total_val_loss / (idx + 1)\n",
    "        val_loss.append(total_val_loss)\n",
    "\n",
    "        if epoch % 1 == 0:\n",
    "            print(\"Epoch:{}/{}\".format(epoch, epochs),\n",
    "                \"Train_loss: {:.4f}\".format(total_train_loss),\n",
    "                \"Test_loss: {:.4f}\".format(total_val_loss),\n",
    "                \"Train_accuracy: {:.4f}\".format(accuracy_train),\n",
    "                \"Test_accuracy: {:.4f}\".format(accuracy_val)\n",
    "                 )"
   ]
  },
  {
   "cell_type": "code",
   "execution_count": 10,
   "metadata": {},
   "outputs": [
    {
     "name": "stdout",
     "output_type": "stream",
     "text": [
      "Epoch:0/6 Train_loss: 0.1475 Test_loss: 0.0808 Train_accuracy: 0.9541 Test_accuracy: 0.9759\n",
      "Epoch:1/6 Train_loss: 0.0720 Test_loss: 0.0655 Train_accuracy: 0.9785 Test_accuracy: 0.9803\n",
      "Epoch:2/6 Train_loss: 0.0632 Test_loss: 0.0749 Train_accuracy: 0.9810 Test_accuracy: 0.9792\n",
      "Epoch:3/6 Train_loss: 0.0588 Test_loss: 0.0669 Train_accuracy: 0.9831 Test_accuracy: 0.9783\n",
      "Epoch:4/6 Train_loss: 0.0603 Test_loss: 0.0526 Train_accuracy: 0.9823 Test_accuracy: 0.9839\n",
      "Epoch:5/6 Train_loss: 0.0539 Test_loss: 0.0583 Train_accuracy: 0.9848 Test_accuracy: 0.9835\n",
      "CPU times: user 11min 49s, sys: 36.8 s, total: 12min 26s\n",
      "Wall time: 6min 25s\n"
     ]
    }
   ],
   "source": [
    "%%time\n",
    "training=Training(6)"
   ]
  },
  {
   "cell_type": "code",
   "execution_count": 11,
   "metadata": {},
   "outputs": [],
   "source": [
    "def PlotLosses(train_loss, test_loss):\n",
    "    plt.plot(train_loss, label='Training loss')\n",
    "    plt.plot(val_loss, label='Test loss')\n",
    "    plt.xlabel('Epoch')\n",
    "    plt.ylabel('Losses')\n",
    "    plt.legend()\n",
    "    plt.grid()"
   ]
  },
  {
   "cell_type": "code",
   "execution_count": 12,
   "metadata": {},
   "outputs": [
    {
     "data": {
      "image/png": "[encoded data removed]",
      "text/plain": [
       "<Figure size 432x288 with 1 Axes>"
      ]
     },
     "metadata": {
      "needs_background": "light"
     },
     "output_type": "display_data"
    }
   ],
   "source": [
    "PlotLosses(train_loss,val_loss)"
   ]
  },
  {
   "cell_type": "code",
   "execution_count": 13,
   "metadata": {},
   "outputs": [],
   "source": [
    "def PlotAccuracy(train_accuracy, test_accuracy):\n",
    "    plt.plot(train_accuracy, label='Training accuracy')\n",
    "    plt.plot(test_accuracy, label='Test accuracy')\n",
    "    plt.xlabel('Epoch')\n",
    "    plt.ylabel('Accuracy')\n",
    "    plt.legend()\n",
    "    plt.grid()"
   ]
  },
  {
   "cell_type": "code",
   "execution_count": 14,
   "metadata": {},
   "outputs": [
    {
     "data": {
      "image/png": "[encoded data removed]",
      "text/plain": [
       "<Figure size 432x288 with 1 Axes>"
      ]
     },
     "metadata": {
      "needs_background": "light"
     },
     "output_type": "display_data"
    }
   ],
   "source": [
    "PlotAccuracy(accuracy_total_train,accuracy_total_val)"
   ]
  },
  {
   "cell_type": "markdown",
   "metadata": {},
   "source": [
    "## Evaluation du modele\n",
    "Maintenant que notre modèle est entraîné, nous pouvons simplement utiliser les poids pré-entraînés pour faire de nouvelles prédictions en désactivant les gradients. Ce que notre modèle nous renvoie, ce sont des logits.\n"
   ]
  },
  {
   "cell_type": "code",
   "execution_count": 21,
   "metadata": {},
   "outputs": [
    {
     "data": {
      "text/plain": [
       "(0, torch.Size([64, 1, 28, 28]))"
      ]
     },
     "execution_count": 21,
     "metadata": {},
     "output_type": "execute_result"
    }
   ],
   "source": [
    "examples = enumerate(testLoader)\n",
    "idx, (Imag, labels) = next(examples)\n",
    "idx,Imag.shape"
   ]
  },
  {
   "cell_type": "code",
   "execution_count": 22,
   "metadata": {},
   "outputs": [
    {
     "data": {
      "image/png": "[encoded data removed]",
      "text/plain": [
       "<Figure size 432x288 with 3 Axes>"
      ]
     },
     "execution_count": 22,
     "metadata": {},
     "output_type": "execute_result"
    },
    {
     "data": {
      "image/png": "[encoded data removed]",
      "text/plain": [
       "<Figure size 432x288 with 3 Axes>"
      ]
     },
     "metadata": {},
     "output_type": "display_data"
    }
   ],
   "source": [
    "\n",
    "# on desactive les gradients\n",
    "with torch.no_grad():\n",
    "    logit = model(Imag)\n",
    "\n",
    "fig = plt.figure()\n",
    "for i in range(3):\n",
    "    plt.subplot(1,3,i+1)\n",
    "    plt.tight_layout()\n",
    "    plt.imshow(Imag[i][0], cmap='gray', interpolation='none')\n",
    "    plt.title(\"Prediction: {}\".format(logit.max(1, keepdim=True)[1][i].item()))\n",
    "    plt.xticks([])\n",
    "    plt.yticks([])\n",
    "fig"
   ]
  },
  {
   "cell_type": "code",
   "execution_count": 23,
   "metadata": {},
   "outputs": [],
   "source": [
    "PATH = './mnist.pth'\n",
    "torch.save(model.state_dict(), PATH)"
   ]
  },
  {
   "cell_type": "code",
   "execution_count": 20,
   "metadata": {},
   "outputs": [
    {
     "name": "stdout",
     "output_type": "stream",
     "text": [
      "Accuracy of     0 : 100 %\n",
      "Accuracy of     1 : 98 %\n",
      "Accuracy of     2 : 100 %\n",
      "Accuracy of     3 : 96 %\n",
      "Accuracy of     4 : 98 %\n",
      "Accuracy of     5 : 97 %\n",
      "Accuracy of     6 : 98 %\n",
      "Accuracy of     7 : 98 %\n",
      "Accuracy of     8 : 96 %\n",
      "Accuracy of     9 : 95 %\n",
      "Test Accuracy = 98.08110812521511\n"
     ]
    }
   ],
   "source": [
    "classes=['0','1','2','3','4','5','6','7','8','9']\n",
    "class_correct = list(0. for i in range(10))\n",
    "class_total = list(0. for i in range(10))\n",
    "with torch.no_grad():\n",
    "    for data in testLoader:\n",
    "        images, labels = data\n",
    "        outputs = model(images)\n",
    "        _, predicted = torch.max(outputs, 1)\n",
    "        c = (predicted == labels).squeeze()\n",
    "        for i in range(4):\n",
    "            label = labels[i]\n",
    "            class_correct[label] += c[i].item()\n",
    "            class_total[label] += 1\n",
    "\n",
    "moyenne=[]\n",
    "for i in range(10):\n",
    "    res=100 * class_correct[i] / class_total[i]\n",
    "    moyenne.append(res)\n",
    "    print('Accuracy of %5s : %2d %%' % (\n",
    "        classes[i], 100 * class_correct[i] / class_total[i]))\n",
    "print('Test Accuracy =',np.mean(moyenne))"
   ]
  },
  {
   "cell_type": "code",
   "execution_count": null,
   "metadata": {},
   "outputs": [],
   "source": []
  }
 ],
 "metadata": {
  "hide_input": false,
  "kernelspec": {
   "display_name": "Python 3",
   "language": "python",
   "name": "python3"
  },
  "language_info": {
   "codemirror_mode": {
    "name": "ipython",
    "version": 3
   },
   "file_extension": ".py",
   "mimetype": "text/x-python",
   "name": "python",
   "nbconvert_exporter": "python",
   "pygments_lexer": "ipython3",
   "version": "3.7.6"
  }
 },
 "nbformat": 4,
 "nbformat_minor": 4
}
