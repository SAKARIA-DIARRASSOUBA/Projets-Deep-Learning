{
 "cells": [
  {
   "cell_type": "code",
   "execution_count": 7,
   "metadata": {},
   "outputs": [
    {
     "data": {
      "text/plain": [
       "'cpu'"
      ]
     },
     "execution_count": 7,
     "metadata": {},
     "output_type": "execute_result"
    }
   ],
   "source": [
    "import torch\n",
    "import torchvision\n",
    "import numpy as np\n",
    "import matplotlib.pyplot as plt\n",
    "import torch.nn as nn\n",
    "import torch.optim as optim\n",
    "import torch.nn.functional as F\n",
    "from torchvision import datasets, transforms\n",
    "#from torchvision.datasets import MNIST\n",
    "from torchvision.transforms import ToTensor\n",
    "from torchvision.utils import make_grid\n",
    "from torch.utils.data.dataloader import DataLoader\n",
    "from torch.utils.data import random_split\n",
    "%matplotlib inline\n",
    "import os\n",
    "import time\n",
    "# moves your model to train on your gpu if available else it uses your cpu\n",
    "device = (\"cuda\" if torch.cuda.is_available() else \"cpu\")\n",
    "device"
   ]
  },
  {
   "cell_type": "markdown",
   "metadata": {},
   "source": [
    "## Charger des données MNIST à partir de Torchvision\n",
    "Torchvision permet de charger les données du MNIST de manière pratique. Nous utiliserons un batch_size de 64 pour la formation et de 1000 pour les tests sur cet ensemble de données. Les valeurs 0,1307 et 0,3081 utilisées pour la transformation Normalize() ci-dessous sont la moyenne globale et l'écart-type de l'ensemble de données MNIST. **transforme.ToTensor()** convertit l'ensemble du tableau en tenseur de torche et le divise par 255.  Les valeurs sont donc comprises entre 0,0 et 1,0."
   ]
  },
  {
   "cell_type": "code",
   "execution_count": 4,
   "metadata": {},
   "outputs": [],
   "source": [
    "# On defini la transformation qui normalise les données\n",
    "transform = transforms.Compose([ transforms.ToTensor(),\n",
    "                                transforms.Normalize((0.1307,),(0.3081,))\n",
    "                               ])"
   ]
  },
  {
   "cell_type": "code",
   "execution_count": 5,
   "metadata": {},
   "outputs": [
    {
     "name": "stdout",
     "output_type": "stream",
     "text": [
      "Downloading http://yann.lecun.com/exdb/mnist/train-images-idx3-ubyte.gz to DATA_MNIST/MNIST/raw/train-images-idx3-ubyte.gz\n"
     ]
    },
    {
     "data": {
      "application/vnd.jupyter.widget-view+json": {
       "model_id": "98b35a9958364301b375f8270ad80698",
       "version_major": 2,
       "version_minor": 0
      },
      "text/plain": [
       "HBox(children=(FloatProgress(value=1.0, bar_style='info', max=1.0), HTML(value='')))"
      ]
     },
     "metadata": {},
     "output_type": "display_data"
    },
    {
     "name": "stdout",
     "output_type": "stream",
     "text": [
      "Extracting DATA_MNIST/MNIST/raw/train-images-idx3-ubyte.gz to DATA_MNIST/MNIST/raw\n",
      "Downloading http://yann.lecun.com/exdb/mnist/train-labels-idx1-ubyte.gz to DATA_MNIST/MNIST/raw/train-labels-idx1-ubyte.gz\n"
     ]
    },
    {
     "data": {
      "application/vnd.jupyter.widget-view+json": {
       "model_id": "0a1e0f6167a34020ae98e895b7751889",
       "version_major": 2,
       "version_minor": 0
      },
      "text/plain": [
       "HBox(children=(FloatProgress(value=1.0, bar_style='info', max=1.0), HTML(value='')))"
      ]
     },
     "metadata": {},
     "output_type": "display_data"
    },
    {
     "name": "stdout",
     "output_type": "stream",
     "text": [
      "Extracting DATA_MNIST/MNIST/raw/train-labels-idx1-ubyte.gz to DATA_MNIST/MNIST/raw\n",
      "Downloading http://yann.lecun.com/exdb/mnist/t10k-images-idx3-ubyte.gz to DATA_MNIST/MNIST/raw/t10k-images-idx3-ubyte.gz\n",
      "\n"
     ]
    },
    {
     "data": {
      "application/vnd.jupyter.widget-view+json": {
       "model_id": "a567cb691c7b4840b400f27cbdc8a221",
       "version_major": 2,
       "version_minor": 0
      },
      "text/plain": [
       "HBox(children=(FloatProgress(value=1.0, bar_style='info', max=1.0), HTML(value='')))"
      ]
     },
     "metadata": {},
     "output_type": "display_data"
    },
    {
     "name": "stdout",
     "output_type": "stream",
     "text": [
      "Extracting DATA_MNIST/MNIST/raw/t10k-images-idx3-ubyte.gz to DATA_MNIST/MNIST/raw\n",
      "Downloading http://yann.lecun.com/exdb/mnist/t10k-labels-idx1-ubyte.gz to DATA_MNIST/MNIST/raw/t10k-labels-idx1-ubyte.gz\n"
     ]
    },
    {
     "data": {
      "application/vnd.jupyter.widget-view+json": {
       "model_id": "51b113beaba84b3eb151b423c4c2832a",
       "version_major": 2,
       "version_minor": 0
      },
      "text/plain": [
       "HBox(children=(FloatProgress(value=1.0, bar_style='info', max=1.0), HTML(value='')))"
      ]
     },
     "metadata": {},
     "output_type": "display_data"
    },
    {
     "name": "stdout",
     "output_type": "stream",
     "text": [
      "Extracting DATA_MNIST/MNIST/raw/t10k-labels-idx1-ubyte.gz to DATA_MNIST/MNIST/raw\n",
      "Processing...\n"
     ]
    },
    {
     "name": "stderr",
     "output_type": "stream",
     "text": [
      "/Users/vw12/opt/anaconda3/lib/python3.7/site-packages/torchvision/datasets/mnist.py:469: UserWarning: The given NumPy array is not writeable, and PyTorch does not support non-writeable tensors. This means you can write to the underlying (supposedly non-writeable) NumPy array using the tensor. You may want to copy the array to protect its data or make it writeable before converting it to a tensor. This type of warning will be suppressed for the rest of this program. (Triggered internally at  /Users/distiller/project/conda/conda-bld/pytorch_1595629430416/work/torch/csrc/utils/tensor_numpy.cpp:141.)\n",
      "  return torch.from_numpy(parsed.astype(m[2], copy=False)).view(*s)\n"
     ]
    },
    {
     "name": "stdout",
     "output_type": "stream",
     "text": [
      "Done!\n"
     ]
    }
   ],
   "source": [
    "# On télécharge et charge les données \n",
    "train_set = datasets.MNIST('DATA_MNIST/', download=True, train=True, transform=transform)\n",
    "trainLoader = torch.utils.data.DataLoader(train_set, batch_size=64, shuffle=True)\n",
    "\n",
    "test_set = datasets.MNIST('DATA_MNIST/', download=True, train=False, transform=transform)\n",
    "testLoader = torch.utils.data.DataLoader(test_set, batch_size=64, shuffle=True)"
   ]
  },
  {
   "cell_type": "code",
   "execution_count": 26,
   "metadata": {},
   "outputs": [
    {
     "data": {
      "text/plain": [
       "(10000, 60000)"
      ]
     },
     "execution_count": 26,
     "metadata": {},
     "output_type": "execute_result"
    }
   ],
   "source": [
    "len(test_set),len(train_set)\n"
   ]
  },
  {
   "cell_type": "code",
   "execution_count": null,
   "metadata": {},
   "outputs": [],
   "source": [
    "train_loader = torch.utils.data.DataLoader(\n",
    "  torchvision.datasets.MNIST('/files/', train=True, download=True,\n",
    "                             transform=torchvision.transforms.Compose([\n",
    "                               torchvision.transforms.ToTensor(),\n",
    "                               torchvision.transforms.Normalize(\n",
    "                                 (0.1307,), (0.3081,))\n",
    "                             ])),\n",
    "  batch_size=batch_size_train, shuffle=True)\n",
    "\n",
    "test_loader = torch.utils.data.DataLoader(\n",
    "  torchvision.datasets.MNIST('/files/', train=False, download=True,\n",
    "                             transform=torchvision.transforms.Compose([\n",
    "                               torchvision.transforms.ToTensor(),\n",
    "                               torchvision.transforms.Normalize(\n",
    "                                 (0.1307,), (0.3081,))\n",
    "                             ])),\n",
    "  batch_size=batch_size_test, shuffle=True)"
   ]
  },
  {
   "cell_type": "markdown",
   "metadata": {},
   "source": [
    "## Preproccessing des données"
   ]
  },
  {
   "cell_type": "code",
   "execution_count": 23,
   "metadata": {},
   "outputs": [
    {
     "data": {
      "text/plain": [
       "<torch._C.Generator at 0x10b032830>"
      ]
     },
     "execution_count": 23,
     "metadata": {},
     "output_type": "execute_result"
    }
   ],
   "source": [
    "epochs = 10\n",
    "batch_size_train = 64\n",
    "batch_size_test = 64\n",
    "learning_rate = 0.01\n",
    "momentum = 0.5\n",
    "log_interval = 10\n",
    "\n",
    "random_seed = 1\n",
    "torch.backends.cudnn.enabled = False\n",
    "torch.manual_seed(random_seed)"
   ]
  },
  {
   "cell_type": "markdown",
   "metadata": {},
   "source": [
    "Pour des expériences répétable il est important de fixer la graine\n",
    "Il faut souligner que **cudnn** n'utilise que les algorithmes non déterministes qui peuvent est désactivés **$torch.backends.cudnn.enabled = False$**\n",
    "\n",
    "Dans PyTorch, **DataLoader** contient quelques options interessantes autres que dataset et batch size. par exemple l'utilisation de $num workers >1$ pour utiliser les sous processus pour charger les données de manière asynchrone ou utiliser la RAM (via **pin_memory**) pour accelérer les transfert de RAM vers le GPU"
   ]
  },
  {
   "cell_type": "code",
   "execution_count": 16,
   "metadata": {},
   "outputs": [
    {
     "name": "stdout",
     "output_type": "stream",
     "text": [
      "le type de données:  <class 'torch.Tensor'>\n",
      "la tailles des images : torch.Size([64, 1, 28, 28])\n",
      "la taille des labels : torch.Size([64])\n"
     ]
    }
   ],
   "source": [
    "examples = enumerate(testLoader)\n",
    "batch_idx, (images, labels) = next(examples)\n",
    "print(\"le type de données: \",type(images)) # Checking the datatype \n",
    "print(\"la tailles des images :\", images.shape) # the size of the image\n",
    "print(\"la taille des labels :\", labels.shape) # the size of the labels"
   ]
  },
  {
   "cell_type": "markdown",
   "metadata": {},
   "source": [
    "Transformons notre objet trainloader en un itérateur avec iter afin que nous puissions accéder à nos images et à nos étiquettes à partir de ce générateur. Nous pouvons voir la forme comme $64\\times 1\\times 28\\times 28$. cela signifi que:\n",
    "\n",
    "- 64: Represents 64 images\n",
    "- 1 : un cannal donc la couleur ==>> Grayscale(grise)\n",
    "- $28$ par 28 pixel: la forme des images\n"
   ]
  },
  {
   "cell_type": "code",
   "execution_count": 20,
   "metadata": {},
   "outputs": [
    {
     "data": {
      "image/png": "[encoded data removed]",
      "text/plain": [
       "<Figure size 432x288 with 6 Axes>"
      ]
     },
     "execution_count": 20,
     "metadata": {},
     "output_type": "execute_result"
    },
    {
     "data": {
      "image/png": "[encoded data removed]",
      "text/plain": [
       "<Figure size 432x288 with 6 Axes>"
      ]
     },
     "metadata": {},
     "output_type": "display_data"
    }
   ],
   "source": [
    "\n",
    "fig = plt.figure()\n",
    "for i in range(6):\n",
    "    plt.subplot(2,3,i+1)\n",
    "    plt.tight_layout()\n",
    "    plt.imshow(images[i][0], cmap='gray')\n",
    "    plt.title(\"label: {}\".format(labels[i]))\n",
    "    plt.xticks([])\n",
    "    plt.yticks([])\n",
    "fig"
   ]
  },
  {
   "cell_type": "markdown",
   "metadata": {},
   "source": [
    "## construction du réseau"
   ]
  },
  {
   "cell_type": "markdown",
   "metadata": {},
   "source": [
    " \n",
    "\n",
    "Nous allons constuire notre réseau en utilisant la méthode **nn.module** dans la classe des objets orientées. Ce réseau sera composé de 2 couches de convolutions 2D suivies de des couches FC. Comme fonctions d'activations on utilisera la ReLU et comme moyen de regularisation  on utilisera le Dropout\n",
    "\n",
    "La fonction **Forward()** définie la façon dont on calcule la sortie en utilisant les couches"
   ]
  },
  {
   "cell_type": "code",
   "execution_count": 21,
   "metadata": {},
   "outputs": [],
   "source": [
    "class Network(nn.Module):\n",
    "\n",
    "    def __init__(self):\n",
    "        super(Network, self).__init__()\n",
    "        # couche du réseau de convolution\n",
    "        self.convolutaional_neural_network_layers = nn.Sequential(\n",
    "                # ici on defini notre couche de covolution 2D\n",
    "                # On peut calculer la taille de sortie de chaque de convolution comme:\n",
    "                # outpout = [(in_channel + 2*padding - kernel_size) / stride] + 1\n",
    "                # On a in_channels=1 parce que nos images sont en noire et blanc\n",
    "                nn.Conv2d(in_channels=1, out_channels=12, kernel_size=3, padding=1, stride=1),#(N, 1, 28, 28) \n",
    "                nn.ReLU(),\n",
    "                # après la première couche de convolution la sortie est\n",
    "                # [(28 + 2*1 - 3)/1] + 1 = 28. \n",
    "                nn.MaxPool2d(kernel_size=2), \n",
    "                # Puisqu'on appliqué le max pooling avec kernel=2, on a divisé par 2, donc on obtient\n",
    "                # 28 / 2 = 14\n",
    "          \n",
    "                # la sortie de la seconde couche\n",
    "                nn.Conv2d(in_channels=12, out_channels=24, kernel_size=3, padding=1, stride=1),\n",
    "                nn.ReLU(),\n",
    "                # la taille de sortie est :\n",
    "                # [(14 + 2*1 - 3)/1] + 1 = 14. \n",
    "                nn.MaxPool2d(kernel_size=2) \n",
    "                # Puisqu'on appliqué le max pooling avec kernel=2, on a divisé par 2, donc on obtient\n",
    "                # 14 / 2 = 7\n",
    "        )\n",
    "\n",
    "        # les couches linéaires\n",
    "        self.linear_layers = nn.Sequential(\n",
    "                # On a output_channel=24 de la seconde couche, et 7*7 est derivée par la formule\n",
    "                # qui est la sortie de chaque couche\n",
    "                nn.Linear(in_features=24*7*7, out_features=64),          \n",
    "                nn.ReLU(),\n",
    "                nn.Dropout(p=0.2), \n",
    "                nn.Linear(in_features=64, out_features=10) # on a 10 classes\n",
    "        )\n",
    "        \n",
    "    # Définition de la passe avant \n",
    "\n",
    "    def forward(self, x):\n",
    "        x = self.convolutaional_neural_network_layers(x)\n",
    "        # Après avoir obtenu la sortie de notre couche convolutionnelle,\n",
    "        # nous devons l'aplatir ou réorganiser la sortie en un vecteur        \n",
    "        x = x.view(x.size(0), -1)\n",
    "        # puis ça passe à travers les couches linéaires\n",
    "        x = self.linear_layers(x)\n",
    "        return x"
   ]
  },
  {
   "cell_type": "code",
   "execution_count": 44,
   "metadata": {},
   "outputs": [],
   "source": [
    "class Net(nn.Module):\n",
    "    def __init__(self):\n",
    "        super(Net, self).__init__()\n",
    "        self.conv1 = nn.Conv2d(in_channels=1, out_channels=10, kernel_size=5)\n",
    "        self.conv2 = nn.Conv2d(10, 20, kernel_size=5)\n",
    "        self.conv2_drop = nn.Dropout2d()\n",
    "        self.fc1 = nn.Linear(320, 50)\n",
    "        self.fc2 = nn.Linear(50, 10)\n",
    "\n",
    "    def forward(self, x):\n",
    "        x = F.relu(F.max_pool2d(self.conv1(x), 2))\n",
    "        x = F.relu(F.max_pool2d(self.conv2_drop(self.conv2(x)), 2))\n",
    "        x = x.view(-1, 320)\n",
    "        x = F.relu(self.fc1(x))\n",
    "        x = F.dropout(x, training=self.training)\n",
    "        x = self.fc2(x)\n",
    "        return F.log_softmax(x)"
   ]
  },
  {
   "cell_type": "markdown",
   "metadata": {},
   "source": [
    "La fonction forward() pass (la passe en avant) définit la façon dont notre sortie est calculée. La ligne x.view(x.size(0), -1) aplatit la sortie de la couche de convolution en un vecteur. La plupart du temps, lors de l'expérimentation de modèles plus complexes, il est conseillé d'afficher les valeurs du tenseur pour faciliter le débogage.\n",
    "\n",
    "Définissons les optimiseurs que nous utiliserons."
   ]
  },
  {
   "cell_type": "code",
   "execution_count": 22,
   "metadata": {},
   "outputs": [
    {
     "data": {
      "text/plain": [
       "Network(\n",
       "  (convolutaional_neural_network_layers): Sequential(\n",
       "    (0): Conv2d(1, 12, kernel_size=(3, 3), stride=(1, 1), padding=(1, 1))\n",
       "    (1): ReLU()\n",
       "    (2): MaxPool2d(kernel_size=2, stride=2, padding=0, dilation=1, ceil_mode=False)\n",
       "    (3): Conv2d(12, 24, kernel_size=(3, 3), stride=(1, 1), padding=(1, 1))\n",
       "    (4): ReLU()\n",
       "    (5): MaxPool2d(kernel_size=2, stride=2, padding=0, dilation=1, ceil_mode=False)\n",
       "  )\n",
       "  (linear_layers): Sequential(\n",
       "    (0): Linear(in_features=1176, out_features=64, bias=True)\n",
       "    (1): ReLU()\n",
       "    (2): Dropout(p=0.2, inplace=False)\n",
       "    (3): Linear(in_features=64, out_features=10, bias=True)\n",
       "  )\n",
       ")"
      ]
     },
     "execution_count": 22,
     "metadata": {},
     "output_type": "execute_result"
    }
   ],
   "source": [
    "model = Network()\n",
    "model.to(device)\n"
   ]
  },
  {
   "cell_type": "markdown",
   "metadata": {},
   "source": [
    "Après la passe en avant, la loss function est calculée à partir de la **sortie souhaitée( etiquette)** et les prédictions  afin de mettre à jour les poids. La mise en place de la fonction de perte est une étape assez simple. On utilise ici la perte d'entropie croisée, qui mesure la performance d'un modèle de classification dont la sortie est une valeur de probabilité comprise entre 0 et 1. Il convient de noter que la perte d'entropie croisée augmente lorsque la probabilité prévue diverge de l'étiquette réelle.\n",
    "\n",
    "Ensuite, nous utiliserons l'optimiseur Stochastic Gradient Descent pour la mise à jour des hyperparamètres model.parameters() fournira les paramètres pouvant être appris à l'optimiseur et lr=0.01 définit les pas d'apprentissage pour les mises à jour des paramètres.\n",
    "\n"
   ]
  },
  {
   "cell_type": "code",
   "execution_count": 55,
   "metadata": {},
   "outputs": [],
   "source": [
    "network = Net()\n",
    "\n",
    "optimizer = optim.SGD(model.parameters(), lr=learning_rate,momentum=momentum)\n"
   ]
  },
  {
   "cell_type": "markdown",
   "metadata": {},
   "source": [
    "Il est important de noter que lorsqu'on utilise le GPU pour entrainer le réseau, il faudra envoyer les paramètres du modèles au GPU en utilisant **model.cuda**. C'est important de transférer les paramètres aux device appropriés avant de les passer à l'optimiseur, sinon l'optimiseur ne sera pas capable de les suivrent \n",
    "\n",
    "\n"
   ]
  },
  {
   "cell_type": "markdown",
   "metadata": {},
   "source": [
    "## Apprentissage et test du modèle"
   ]
  },
  {
   "cell_type": "markdown",
   "metadata": {},
   "source": [
    "Le chargement des données est géré par Dataloader, ensuite on commence à mettre à zero le gradient en utilisant **optimizer.zero_grad()** puisque Pytorch par defaut cummule le gradient\n",
    "le **backward()** permet de collecter le nouveau  gradient qu'on propagera dans les paramètres du réseau via à **optimizer.step()**\n",
    "\n",
    "Notre modèle est maintenant prêt à être entrainé. On commençe par établir une taille d'époque. Une époque c'est, lorsqu'on traverse toute la base de données une seule fois pendant l'apprentissage. "
   ]
  },
  {
   "cell_type": "code",
   "execution_count": 42,
   "metadata": {},
   "outputs": [],
   "source": [
    "epochs = 3\n",
    "train_loss, val_loss = [], []\n",
    "accuracy_total_train, accuracy_total_val = [], []\n",
    "\n",
    "def Training(epochs):\n",
    "    for epoch in range(epochs):\n",
    "\n",
    "        total_train_loss = 0\n",
    "        total_val_loss = 0\n",
    "\n",
    "        model.train()\n",
    "\n",
    "        total = 0\n",
    "        # training our model\n",
    "        for idx, (image, label) in enumerate(trainLoader):\n",
    "            # cela est nécessaire lorsqu'on travaille sur un GPU\n",
    "            #image, label = image.to(device), label.to(device)\n",
    "            # mettre le gradient à zero\n",
    "            optimizer.zero_grad()\n",
    "            output= model(image)\n",
    "\n",
    "            loss = F.nll_loss(output, label)\n",
    "            total_train_loss += loss.item()\n",
    "            # retropropager la loss dans le réseau\n",
    "            loss.backward()\n",
    "            optimizer.step()\n",
    "\n",
    "            pred = F.softmax(output, dim=1)\n",
    "            for i, p in enumerate(pred):\n",
    "                if label[i] == torch.max(p.data, 0)[1]:\n",
    "                    total = total + 1\n",
    "\n",
    "        accuracy_train = total / len(train_set)\n",
    "        accuracy_total_train.append(accuracy_train)\n",
    "\n",
    "        total_train_loss = total_train_loss / (idx + 1)\n",
    "        train_loss.append(total_train_loss)\n",
    "\n",
    "        # test de notre modèle\n",
    "        model.eval()\n",
    "        total = 0\n",
    "        for idx, (image, label) in enumerate(testLoader):\n",
    "            pred = model(image)\n",
    "            loss = F.nll_loss(pred, label)\n",
    "            total_val_loss += loss.item()\n",
    "\n",
    "            pred = torch.nn.functional.softmax(pred, dim=1)\n",
    "            for i, p in enumerate(pred):\n",
    "                if label[i] == torch.max(p.data, 0)[1]:\n",
    "                    total = total + 1\n",
    "\n",
    "        accuracy_val = total / len(test_set)\n",
    "        accuracy_total_val.append(accuracy_val)\n",
    "\n",
    "        total_val_loss = total_val_loss / (idx + 1)\n",
    "        val_loss.append(total_val_loss)\n",
    "\n",
    "        if epoch % 2 == 0:\n",
    "            print(\"Epoch: {}/{}  \".format(epoch, epochs),\n",
    "                \"Training loss: {:.4f}  \".format(total_train_loss),\n",
    "                \"Testing loss: {:.4f}  \".format(total_val_loss),\n",
    "                \"Train accuracy: {:.4f}  \".format(accuracy_train),\n",
    "                \"Test accuracy: {:.4f}  \".format(accuracy_val))"
   ]
  },
  {
   "cell_type": "code",
   "execution_count": 43,
   "metadata": {},
   "outputs": [
    {
     "name": "stdout",
     "output_type": "stream",
     "text": [
      "Epoch: 0/3   Training loss: nan   Testing loss: nan   Train accuracy: 0.0987   Test accuracy: 0.0980  \n",
      "Epoch: 2/3   Training loss: nan   Testing loss: nan   Train accuracy: 0.0987   Test accuracy: 0.0980  \n"
     ]
    }
   ],
   "source": [
    "Training(epochs)"
   ]
  },
  {
   "cell_type": "code",
   "execution_count": null,
   "metadata": {},
   "outputs": [],
   "source": []
  }
 ],
 "metadata": {
  "hide_input": false,
  "kernelspec": {
   "display_name": "Python 3",
   "language": "python",
   "name": "python3"
  },
  "language_info": {
   "codemirror_mode": {
    "name": "ipython",
    "version": 3
   },
   "file_extension": ".py",
   "mimetype": "text/x-python",
   "name": "python",
   "nbconvert_exporter": "python",
   "pygments_lexer": "ipython3",
   "version": "3.7.6"
  }
 },
 "nbformat": 4,
 "nbformat_minor": 4
}
